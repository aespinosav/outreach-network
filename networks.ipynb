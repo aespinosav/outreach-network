{
 "metadata": {
  "name": ""
 },
 "nbformat": 3,
 "nbformat_minor": 0,
 "worksheets": [
  {
   "cells": [
    {
     "cell_type": "code",
     "collapsed": false,
     "input": [
      "import numpy as np\n",
      "from matplotlib.pyplot import *\n",
      "%matplotlib inline"
     ],
     "language": "python",
     "metadata": {},
     "outputs": [],
     "prompt_number": 52
    },
    {
     "cell_type": "code",
     "collapsed": false,
     "input": [
      "class Node():\n",
      "    \"\"\"\n",
      "    Node class. The parameter passed when instantianting is the initial output.\n",
      "    \"\"\"\n",
      "    \n",
      "    inputs = []\n",
      "    \n",
      "    def __init__(self, out):\n",
      "        self.output = out\n",
      "        \n",
      "    def update(self):\n",
      "        \"\"\"\n",
      "        Defines a rule to update the output (from the inputs the node receives)\n",
      "        This particular rule changes the output to the mean of the inputs.\n",
      "        \"\"\"\n",
      "        \n",
      "        suma = 0\n",
      "        for i in self.inputs:\n",
      "            suma += i\n",
      "        \n",
      "        average = suma / float(len(self.inputs))\n",
      "        \n",
      "        self.output = np.ceil(average)\n",
      "        "
     ],
     "language": "python",
     "metadata": {},
     "outputs": [],
     "prompt_number": 112
    },
    {
     "cell_type": "code",
     "collapsed": false,
     "input": [
      "class Network():\n",
      "    \"\"\"\n",
      "    Creates a network of the list of nodes passed as \"nodes\", with a list of connections\n",
      "    for each node. Therefore it is a directed network. connections has to be a list of lists\n",
      "    for the connections of each node in nodes.\n",
      "    \"\"\"\n",
      "    \n",
      "    def __init__(self, nodes, connections):\n",
      "        \n",
      "        self.nodes = nodes\n",
      "        self.connections = connections\n",
      "        \n",
      "    def assemble(self):\n",
      "        \n",
      "        for i in range(len(self.nodes)):\n",
      "            self.nodes[i].inputs = [ self.nodes[j].output for j in self.connections[i] ] \n",
      "            \n",
      "    def update_nodes(self):\n",
      "        \"\"\"\n",
      "        Calls the update method of each node, so there can be different types of nodes in the network.\n",
      "        \"\"\"\n",
      "        for n in self.nodes:\n",
      "            n.update()\n",
      "    \n",
      "    \n",
      "    def print_network_state(self):\n",
      "        \n",
      "        for i in range(len(self.nodes)):\n",
      "            \n",
      "            print \"Node {}:\".format(i)\n",
      "            print \"output = {}\".format(self.nodes[i].output)\n",
      "            print \"inputs = {}\\n\".format(self.nodes[i].inputs)"
     ],
     "language": "python",
     "metadata": {},
     "outputs": [],
     "prompt_number": 113
    },
    {
     "cell_type": "code",
     "collapsed": false,
     "input": [
      "a = Node(1)\n",
      "b = Node(0)\n",
      "c = Node(1)\n",
      "\n",
      "conections = [[2,1], [0], [0,2]]\n",
      "nodes = [a,b,c]\n",
      "\n",
      "net = Network(nodes, connections)"
     ],
     "language": "python",
     "metadata": {},
     "outputs": [],
     "prompt_number": 127
    },
    {
     "cell_type": "code",
     "collapsed": false,
     "input": [
      "net.assemble()"
     ],
     "language": "python",
     "metadata": {},
     "outputs": [],
     "prompt_number": 128
    },
    {
     "cell_type": "code",
     "collapsed": false,
     "input": [
      "net.print_network_state()"
     ],
     "language": "python",
     "metadata": {},
     "outputs": [
      {
       "output_type": "stream",
       "stream": "stdout",
       "text": [
        "Node 0:\n",
        "output = 1\n",
        "inputs = [1, 0]\n",
        "\n",
        "Node 1:\n",
        "output = 0\n",
        "inputs = [1]\n",
        "\n",
        "Node 2:\n",
        "output = 1\n",
        "inputs = [1, 1]\n",
        "\n"
       ]
      }
     ],
     "prompt_number": 129
    },
    {
     "cell_type": "code",
     "collapsed": false,
     "input": [
      "net.update_nodes()"
     ],
     "language": "python",
     "metadata": {},
     "outputs": [],
     "prompt_number": 130
    },
    {
     "cell_type": "code",
     "collapsed": false,
     "input": [
      "net.print_network_state()"
     ],
     "language": "python",
     "metadata": {},
     "outputs": [
      {
       "output_type": "stream",
       "stream": "stdout",
       "text": [
        "Node 0:\n",
        "output = 1.0\n",
        "inputs = [1, 0]\n",
        "\n",
        "Node 1:\n",
        "output = 1.0\n",
        "inputs = [1]\n",
        "\n",
        "Node 2:\n",
        "output = 1.0\n",
        "inputs = [1, 1]\n",
        "\n"
       ]
      }
     ],
     "prompt_number": 131
    },
    {
     "cell_type": "code",
     "collapsed": false,
     "input": [],
     "language": "python",
     "metadata": {},
     "outputs": [],
     "prompt_number": 118
    },
    {
     "cell_type": "code",
     "collapsed": false,
     "input": [],
     "language": "python",
     "metadata": {},
     "outputs": []
    }
   ],
   "metadata": {}
  }
 ]
}